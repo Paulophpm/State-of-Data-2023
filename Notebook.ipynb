{
 "cells": [
  {
   "cell_type": "code",
   "execution_count": 1,
   "metadata": {},
   "outputs": [],
   "source": [
    "# importação dos pacotes\n",
    "import pandas as pd\n",
    "import numpy as np\n",
    "import matplotlib.pyplot as mlp\n",
    "import seaborn as sns\n",
    "import re"
   ]
  },
  {
   "cell_type": "code",
   "execution_count": null,
   "metadata": {},
   "outputs": [],
   "source": [
    "# carregando dataset\n",
    "data = pd.read_csv(\"State_of_data_2022.csv\")"
   ]
  },
  {
   "cell_type": "code",
   "execution_count": null,
   "metadata": {},
   "outputs": [],
   "source": [
    "data.columns"
   ]
  },
  {
   "cell_type": "code",
   "execution_count": null,
   "metadata": {},
   "outputs": [],
   "source": [
    "# aplicação de regex para separar as pesquisas em datasets menores, o regex retorna os 5 primeiros caracteres da coluna que contem o título da pesquisa\n",
    "pesquisa = []\n",
    "for i in data.columns:\n",
    "    p = re.match(r\"(.{1,4})\",i).group(1)\n",
    "    pesquisa.append(p)\n",
    "pesquisa"
   ]
  },
  {
   "cell_type": "code",
   "execution_count": 37,
   "metadata": {},
   "outputs": [
    {
     "ename": "TypeError",
     "evalue": "can only concatenate str (not \"int\") to str",
     "output_type": "error",
     "traceback": [
      "\u001b[1;31m---------------------------------------------------------------------------\u001b[0m",
      "\u001b[1;31mTypeError\u001b[0m                                 Traceback (most recent call last)",
      "Cell \u001b[1;32mIn[37], line 10\u001b[0m\n\u001b[0;32m      8\u001b[0m p7 \u001b[39m=\u001b[39m pesquisa\u001b[39m.\u001b[39mcount(\u001b[39m\"\u001b[39m\u001b[39m(\u001b[39m\u001b[39m'\u001b[39m\u001b[39mP7\u001b[39m\u001b[39m\"\u001b[39m)\n\u001b[0;32m      9\u001b[0m p8 \u001b[39m=\u001b[39m pesquisa\u001b[39m.\u001b[39mcount(\u001b[39m\"\u001b[39m\u001b[39m(\u001b[39m\u001b[39m'\u001b[39m\u001b[39mP8\u001b[39m\u001b[39m\"\u001b[39m)\n\u001b[1;32m---> 10\u001b[0m \u001b[39mprint\u001b[39m(\u001b[39m\"\u001b[39;49m\u001b[39mpesquisa 1 da coluna\u001b[39;49m\u001b[39m\"\u001b[39;49m \u001b[39m+\u001b[39;49m \u001b[39m1\u001b[39;49m \u001b[39m+\u001b[39m \u001b[39m\"\u001b[39m\u001b[39maté a coluna\u001b[39m\u001b[39m\"\u001b[39m,p1)\n",
      "\u001b[1;31mTypeError\u001b[0m: can only concatenate str (not \"int\") to str"
     ]
    }
   ],
   "source": [
    "# realizando a contagem das respectivas colunas que representa cada pesquisa\n",
    "p1 = pesquisa.count(\"('P1\")\n",
    "p2 = pesquisa.count(\"('P2\")\n",
    "p3 = pesquisa.count(\"('P3\")\n",
    "p4 = pesquisa.count(\"('P4\")\n",
    "p5 = pesquisa.count(\"('P5\")\n",
    "p6 = pesquisa.count(\"('P6\")\n",
    "p7 = pesquisa.count(\"('P7\")\n",
    "p8 = pesquisa.count(\"('P8\")"
   ]
  }
 ],
 "metadata": {
  "kernelspec": {
   "display_name": "base",
   "language": "python",
   "name": "python3"
  },
  "language_info": {
   "codemirror_mode": {
    "name": "ipython",
    "version": 3
   },
   "file_extension": ".py",
   "mimetype": "text/x-python",
   "name": "python",
   "nbconvert_exporter": "python",
   "pygments_lexer": "ipython3",
   "version": "3.9.12"
  },
  "orig_nbformat": 4
 },
 "nbformat": 4,
 "nbformat_minor": 2
}
