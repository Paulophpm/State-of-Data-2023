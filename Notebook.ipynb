{
 "cells": [
  {
   "cell_type": "code",
   "execution_count": null,
   "metadata": {},
   "outputs": [],
   "source": [
    "# importação dos pacotes\n",
    "import pandas as pd\n",
    "import numpy as np\n",
    "import matplotlib.pyplot as plt\n",
    "import seaborn as sns\n",
    "import re\n",
    "import warnings\n",
    "warnings.filterwarnings(\"ignore\") # retirar mensagens de alterações futuras"
   ]
  },
  {
   "cell_type": "code",
   "execution_count": null,
   "metadata": {},
   "outputs": [],
   "source": [
    "# carregando dataset\n",
    "data = pd.read_csv(\"State_of_data_2022.csv\")"
   ]
  },
  {
   "cell_type": "code",
   "execution_count": null,
   "metadata": {},
   "outputs": [],
   "source": [
    "data"
   ]
  },
  {
   "cell_type": "code",
   "execution_count": null,
   "metadata": {},
   "outputs": [],
   "source": [
    "data.columns"
   ]
  },
  {
   "cell_type": "code",
   "execution_count": null,
   "metadata": {},
   "outputs": [],
   "source": [
    "# aplicação de regex para separar as pesquisas em datasets menores, o regex retorna os 5 primeiros caracteres da coluna que contem o título da pesquisa e assim contando a quantidade de colunas de cada uma dessas pesquisas\n",
    "pesquisa = []\n",
    "for i in data.columns:\n",
    "    p = re.match(r\"(.{1,4})\",i).group(1)\n",
    "    pesquisa.append(p)\n",
    "p1 = pesquisa.count(\"('P1\")\n",
    "p2 = pesquisa.count(\"('P2\")\n",
    "p3 = pesquisa.count(\"('P3\")\n",
    "p4 = pesquisa.count(\"('P4\")\n",
    "p5 = pesquisa.count(\"('P5\")\n",
    "p6 = pesquisa.count(\"('P6\")\n",
    "p7 = pesquisa.count(\"('P7\")\n",
    "p8 = pesquisa.count(\"('P8\")\n",
    "print(\"Pesquisa 1:\",p1,\"coluna 1 a\", p1)\n",
    "print(\"Pesquisa 2:\",p2,\" coluna\",p1+1,\"a\",p1+p2)\n",
    "print(\"Pesquisa 3:\",p3,\" coluna\",p1+p2+1,\"a\",p1+p2+p3)\n",
    "print(\"Pesquisa 4:\",p4,\" coluna\",p1+p2+p3+1,\"a\",p1+p2+p3+p4)\n",
    "print(\"Pesquisa 5:\",p5,\" coluna\",p1+p2+p3+p4+1,\"a\",p1+p2+p3+p4+p5)\n",
    "print(\"Pesquisa 6:\",p6,\" coluna\",p1+p2+p3+p4+p5+1,\"a\",p1+p2+p3+p4+p5+p6)\n",
    "print(\"Pesquisa 7:\",p7,\" coluna\",p1+p2+p3+p4+p5+p6+1,\"a\",p1+p2+p3+p4+p5+p6+p7)\n",
    "print(\"Pesquisa 8:\",p8,\" coluna\",p1+p2+p3+p4+p5+p6+p7+1,\"a\",p1+p2+p3+p4+p5+p6+p7+p8)"
   ]
  },
  {
   "cell_type": "code",
   "execution_count": null,
   "metadata": {},
   "outputs": [],
   "source": [
    "# separando o datset original para facilitar as análises\n",
    "dataP1 = data[data.columns[1:p1]]\n",
    "dataP2 = data[data.columns[p1+1:p1+p2]]\n",
    "dataP3 = data[data.columns[p1+p2+1:p1+p2+p3]]\n",
    "dataP4 = data[data.columns[p1+p2+p3+1:p1+p2+p3+p4]]\n",
    "dataP5 = data[data.columns[p1+p2+p3+p4+1:p1+p2+p3+p4+p5]]\n",
    "dataP6 = data[data.columns[p1+p2+p3+p4+p5+1:p1+p2+p3+p4+p5+p6]]\n",
    "dataP7 = data[data.columns[p1+p2+p3+p4+p5+p6+1:p1+p2+p3+p4+p5+p6+p7]]\n",
    "dataP8 = data[data.columns[p1+p2+p3+p4+p5+p6+p7+1:p1+p2+p3+p4+p5+p6+p7+p8]]"
   ]
  },
  {
   "cell_type": "code",
   "execution_count": null,
   "metadata": {},
   "outputs": [],
   "source": [
    "# O que cada um dos datasets representa\n",
    "# Pesquisa 1 (dataP1) - Dados Demográficos\n",
    "# Pesquisa 2 (dataP2) - Dados Sobre Carreira\n",
    "# Pesquisa 3 (dataP3) - Desafios dos gestores de times de dados\n",
    "# Pesquisa 4 (dataP4) - Conhecimento da área de dados\n",
    "# Pesquisa 5 (dataP5) - Objetivos da área de dados\n",
    "# Pesquisa 6 (dataP6) - Conhecimentos em Engenharia de Dados/DE\n",
    "# Pesquisa 7 (dataP7) - Conhecimento em Análise de dados/DA\n",
    "# Pesquisa 8 (dataP8) - Conhecimento em ciência de dados/DC"
   ]
  },
  {
   "attachments": {},
   "cell_type": "markdown",
   "metadata": {},
   "source": [
    "1 - Diversidade e Inclusão\n",
    "    - mulheres atuando no mercado\n",
    "    - PCD\n",
    "    - Raça/etnia\n",
    "    - faixa salárial \n",
    "    - idade\n",
    "    - Nível de Ensino"
   ]
  },
  {
   "cell_type": "code",
   "execution_count": null,
   "metadata": {},
   "outputs": [],
   "source": [
    "dataP1"
   ]
  },
  {
   "cell_type": "code",
   "execution_count": null,
   "metadata": {},
   "outputs": [],
   "source": [
    "dataP1[\"('P1_b ', 'Genero')\"].values_counts()"
   ]
  },
  {
   "cell_type": "code",
   "execution_count": null,
   "metadata": {},
   "outputs": [],
   "source": [
    "# verificando os tipos de dados\n",
    "dataP1.dtypes"
   ]
  },
  {
   "cell_type": "code",
   "execution_count": null,
   "metadata": {},
   "outputs": [],
   "source": [
    "# Mudando Idade de float para inteiro\n",
    "dataP1.dtypes[\"('P1_a ', 'Idade')\"]"
   ]
  },
  {
   "cell_type": "code",
   "execution_count": null,
   "metadata": {},
   "outputs": [],
   "source": [
    "# Função para label encoding par ajustar Genero\n",
    "def encoding_func1(x):\n",
    "    if x == 'Masculino':\n",
    "        return 0\n",
    "    return 1\n",
    "dataP1[\"('P1_b ', 'Genero')\"] = dataP1[\"('P1_b ', 'Genero')\"].map(encoding_func1)"
   ]
  },
  {
   "cell_type": "code",
   "execution_count": null,
   "metadata": {},
   "outputs": [],
   "source": [
    "# Função para label encoding para ajustar PCD\n",
    "def encoding_func2(x):\n",
    "    if x == 'Não':\n",
    "        return 0\n",
    "    return 1\n",
    "dataP1[\"('P1_d ', 'PCD')\"] = dataP1[\"('P1_d ', 'PCD')\"].map(encoding_func2)"
   ]
  },
  {
   "cell_type": "code",
   "execution_count": null,
   "metadata": {},
   "outputs": [],
   "source": [
    "# Função para label encoding para ajustar se vive no Brasil e se mudou de estado\n",
    "def encoding_func3(x):\n",
    "    if x == 'True':\n",
    "        return 0\n",
    "    return 1\n",
    "dataP1[\"('P1_g ', 'vive_no_brasil')\"] = dataP1[\"('P1_g ', 'vive_no_brasil')\"].map(encoding_func3)\n",
    "dataP1[\"('P1_j ', 'Mudou de Estado?')\"] = dataP1[\"('P1_j ', 'Mudou de Estado?')\"].map(encoding_func3)"
   ]
  },
  {
   "cell_type": "code",
   "execution_count": null,
   "metadata": {},
   "outputs": [],
   "source": [
    "dataP1[\"('P1_e ', 'experiencia_profissional_prejudicada')\"].value_counts()"
   ]
  },
  {
   "cell_type": "code",
   "execution_count": null,
   "metadata": {},
   "outputs": [],
   "source": [
    "dataP1.hist(figsize = (10,10), bins = 10) \n",
    "plt.show()"
   ]
  },
  {
   "cell_type": "code",
   "execution_count": null,
   "metadata": {},
   "outputs": [],
   "source": [
    "dataP1[[\"('P1_a_1 ', 'Faixa idade')\",\"('P1_b ', 'Genero')\"]]"
   ]
  },
  {
   "cell_type": "code",
   "execution_count": null,
   "metadata": {},
   "outputs": [],
   "source": [
    "species = ('Adelie', 'Chinstrap', 'Gentoo')\n",
    "sex_counts = {\n",
    "    'Masculino': np.array([73, 34, 61]),\n",
    "    'Feminino': np.array([73, 34, 58]),\n",
    "}\n",
    "width = 0.6  # the width of the bars: can also be len(x) sequence\n",
    "\n",
    "\n",
    "fig, ax = plt.subplots()\n",
    "bottom = np.zeros(3)\n",
    "\n",
    "for sex, sex_count in sex_counts.items():\n",
    "    p = ax.bar(species, sex_count, width, label=sex, bottom=bottom)\n",
    "    bottom += sex_count\n",
    "\n",
    "    ax.bar_label(p, label_type='center')\n",
    "\n",
    "ax.set_title('Faixa Etária por Gênero') # legenda\n",
    "ax.legend()\n",
    "\n",
    "plt.show()"
   ]
  }
 ],
 "metadata": {
  "kernelspec": {
   "display_name": "base",
   "language": "python",
   "name": "python3"
  },
  "language_info": {
   "codemirror_mode": {
    "name": "ipython",
    "version": 3
   },
   "file_extension": ".py",
   "mimetype": "text/x-python",
   "name": "python",
   "nbconvert_exporter": "python",
   "pygments_lexer": "ipython3",
   "version": "3.9.12"
  },
  "orig_nbformat": 4
 },
 "nbformat": 4,
 "nbformat_minor": 2
}
