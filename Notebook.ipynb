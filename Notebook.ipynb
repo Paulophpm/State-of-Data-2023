{
 "cells": [
  {
   "cell_type": "code",
   "execution_count": 1,
   "metadata": {},
   "outputs": [],
   "source": [
    "# importação dos pacotes\n",
    "import pandas as pd\n",
    "import numpy as np\n",
    "import matplotlib.pyplot as plt\n",
    "import seaborn as sns\n",
    "import re\n",
    "import warnings\n",
    "from matplotlib import rcParams\n",
    "warnings.filterwarnings(\"ignore\") # retirar mensagens de alterações futuras"
   ]
  },
  {
   "cell_type": "code",
   "execution_count": 2,
   "metadata": {},
   "outputs": [],
   "source": [
    "# configurando os plots do MatplotLib\n",
    "rcParams['figure.figsize'] = 10, 4\n",
    "rcParams['lines.linewidth'] = 3\n",
    "rcParams['xtick.labelsize'] = 'x-large' \n",
    "rcParams['ytick.labelsize'] = 'x-large'"
   ]
  },
  {
   "cell_type": "code",
   "execution_count": 3,
   "metadata": {},
   "outputs": [],
   "source": [
    "# carregando dataset\n",
    "data = pd.read_csv(\"State_of_data_2022.csv\")"
   ]
  },
  {
   "cell_type": "code",
   "execution_count": 9,
   "metadata": {},
   "outputs": [
    {
     "data": {
      "text/html": [
       "<div>\n",
       "<style scoped>\n",
       "    .dataframe tbody tr th:only-of-type {\n",
       "        vertical-align: middle;\n",
       "    }\n",
       "\n",
       "    .dataframe tbody tr th {\n",
       "        vertical-align: top;\n",
       "    }\n",
       "\n",
       "    .dataframe thead th {\n",
       "        text-align: right;\n",
       "    }\n",
       "</style>\n",
       "<table border=\"1\" class=\"dataframe\">\n",
       "  <thead>\n",
       "    <tr style=\"text-align: right;\">\n",
       "      <th></th>\n",
       "      <th>('P0', 'id')</th>\n",
       "      <th>('P1_a ', 'Idade')</th>\n",
       "      <th>('P1_a_1 ', 'Faixa idade')</th>\n",
       "      <th>('P1_b ', 'Genero')</th>\n",
       "      <th>('P1_c ', 'Cor/raca/etnia')</th>\n",
       "      <th>('P1_d ', 'PCD')</th>\n",
       "      <th>('P1_e ', 'experiencia_profissional_prejudicada')</th>\n",
       "      <th>('P1_f ', 'aspectos_prejudicados')</th>\n",
       "      <th>('P1_g ', 'vive_no_brasil')</th>\n",
       "      <th>('P1_i ', 'Estado onde mora')</th>\n",
       "      <th>...</th>\n",
       "      <th>('P8_d_2 ', 'Coletando e limpando os dados que uso para análise e modelagem.')</th>\n",
       "      <th>('P8_d_3 ', 'Entrando em contato com os times de negócio para definição do problema, identificar a solução e apresentação de resultados.')</th>\n",
       "      <th>('P8_d_4 ', 'Desenvolvendo modelos de Machine Learning com o objetivo de colocar em produção em sistemas (produtos de dados).')</th>\n",
       "      <th>('P8_d_5 ', 'Colocando modelos em produção, criando os pipelines de dados, APIs de consumo e monitoramento.')</th>\n",
       "      <th>('P8_d_6 ', 'Cuidando da manutenção de modelos de Machine Learning já em produção, atuando no monitoramento, ajustes e refatoração quando necessário.')</th>\n",
       "      <th>('P8_d_7 ', 'Realizando construções de dashboards em ferramentas de BI como PowerBI, Tableau, Looker, Qlik, etc.')</th>\n",
       "      <th>('P8_d_8 ', 'Utilizando ferramentas avançadas de estatística como SAS, SPSS, Stata etc, para realizar análises.')</th>\n",
       "      <th>('P8_d_9 ', 'Criando e dando manutenção em ETLs, DAGs e automações de pipelines de dados.')</th>\n",
       "      <th>('P8_d_10 ', 'Criando e gerenciando soluções de Feature Store e cultura de MLOps.')</th>\n",
       "      <th>('P8_d_11 ', 'Criando e mantendo a infra que meus modelos e soluções rodam (clusters, servidores, API, containers, etc.)')</th>\n",
       "    </tr>\n",
       "  </thead>\n",
       "  <tbody>\n",
       "    <tr>\n",
       "      <th>0</th>\n",
       "      <td>zzqzz3l9ily8nuo2m7wyzzqzz3w48o96</td>\n",
       "      <td>39.0</td>\n",
       "      <td>35-39</td>\n",
       "      <td>Masculino</td>\n",
       "      <td>Parda</td>\n",
       "      <td>Não</td>\n",
       "      <td>Não acredito que minha experiência profissiona...</td>\n",
       "      <td>NaN</td>\n",
       "      <td>True</td>\n",
       "      <td>Distrito Federal (DF)</td>\n",
       "      <td>...</td>\n",
       "      <td>NaN</td>\n",
       "      <td>NaN</td>\n",
       "      <td>NaN</td>\n",
       "      <td>NaN</td>\n",
       "      <td>NaN</td>\n",
       "      <td>NaN</td>\n",
       "      <td>NaN</td>\n",
       "      <td>NaN</td>\n",
       "      <td>NaN</td>\n",
       "      <td>NaN</td>\n",
       "    </tr>\n",
       "    <tr>\n",
       "      <th>1</th>\n",
       "      <td>zzls2oftfn9law393oezzls2ofhvfpzd</td>\n",
       "      <td>32.0</td>\n",
       "      <td>30-34</td>\n",
       "      <td>Masculino</td>\n",
       "      <td>Parda</td>\n",
       "      <td>Não</td>\n",
       "      <td>Sim, acredito que a minha a experiência profis...</td>\n",
       "      <td>Aprovação em processos seletivos/entrevistas</td>\n",
       "      <td>True</td>\n",
       "      <td>Pará (PA)</td>\n",
       "      <td>...</td>\n",
       "      <td>NaN</td>\n",
       "      <td>NaN</td>\n",
       "      <td>NaN</td>\n",
       "      <td>NaN</td>\n",
       "      <td>NaN</td>\n",
       "      <td>NaN</td>\n",
       "      <td>NaN</td>\n",
       "      <td>NaN</td>\n",
       "      <td>NaN</td>\n",
       "      <td>NaN</td>\n",
       "    </tr>\n",
       "    <tr>\n",
       "      <th>2</th>\n",
       "      <td>zzdwqzfqqp1ypc7ps6m0hzzdwqz292yi</td>\n",
       "      <td>53.0</td>\n",
       "      <td>50-54</td>\n",
       "      <td>Masculino</td>\n",
       "      <td>Branca</td>\n",
       "      <td>Não</td>\n",
       "      <td>NaN</td>\n",
       "      <td>NaN</td>\n",
       "      <td>True</td>\n",
       "      <td>Distrito Federal (DF)</td>\n",
       "      <td>...</td>\n",
       "      <td>0.0</td>\n",
       "      <td>1.0</td>\n",
       "      <td>0.0</td>\n",
       "      <td>0.0</td>\n",
       "      <td>0.0</td>\n",
       "      <td>0.0</td>\n",
       "      <td>0.0</td>\n",
       "      <td>0.0</td>\n",
       "      <td>0.0</td>\n",
       "      <td>0.0</td>\n",
       "    </tr>\n",
       "    <tr>\n",
       "      <th>3</th>\n",
       "      <td>zzbqh3uy7yk7k9qmkzzbqtb4s9faqspl</td>\n",
       "      <td>27.0</td>\n",
       "      <td>25-29</td>\n",
       "      <td>Masculino</td>\n",
       "      <td>Branca</td>\n",
       "      <td>Não</td>\n",
       "      <td>NaN</td>\n",
       "      <td>NaN</td>\n",
       "      <td>True</td>\n",
       "      <td>Minas Gerais (MG)</td>\n",
       "      <td>...</td>\n",
       "      <td>1.0</td>\n",
       "      <td>0.0</td>\n",
       "      <td>0.0</td>\n",
       "      <td>0.0</td>\n",
       "      <td>0.0</td>\n",
       "      <td>0.0</td>\n",
       "      <td>0.0</td>\n",
       "      <td>0.0</td>\n",
       "      <td>0.0</td>\n",
       "      <td>0.0</td>\n",
       "    </tr>\n",
       "    <tr>\n",
       "      <th>4</th>\n",
       "      <td>zzaf1m95yan929rb94wzzaf1mekhvhpg</td>\n",
       "      <td>46.0</td>\n",
       "      <td>45-49</td>\n",
       "      <td>Feminino</td>\n",
       "      <td>Branca</td>\n",
       "      <td>Não</td>\n",
       "      <td>Não acredito que minha experiência profissiona...</td>\n",
       "      <td>NaN</td>\n",
       "      <td>True</td>\n",
       "      <td>Pará (PA)</td>\n",
       "      <td>...</td>\n",
       "      <td>NaN</td>\n",
       "      <td>NaN</td>\n",
       "      <td>NaN</td>\n",
       "      <td>NaN</td>\n",
       "      <td>NaN</td>\n",
       "      <td>NaN</td>\n",
       "      <td>NaN</td>\n",
       "      <td>NaN</td>\n",
       "      <td>NaN</td>\n",
       "      <td>NaN</td>\n",
       "    </tr>\n",
       "  </tbody>\n",
       "</table>\n",
       "<p>5 rows × 353 columns</p>\n",
       "</div>"
      ],
      "text/plain": [
       "                       ('P0', 'id')  ('P1_a ', 'Idade')   \n",
       "0  zzqzz3l9ily8nuo2m7wyzzqzz3w48o96                39.0  \\\n",
       "1  zzls2oftfn9law393oezzls2ofhvfpzd                32.0   \n",
       "2  zzdwqzfqqp1ypc7ps6m0hzzdwqz292yi                53.0   \n",
       "3  zzbqh3uy7yk7k9qmkzzbqtb4s9faqspl                27.0   \n",
       "4  zzaf1m95yan929rb94wzzaf1mekhvhpg                46.0   \n",
       "\n",
       "  ('P1_a_1 ', 'Faixa idade') ('P1_b ', 'Genero') ('P1_c ', 'Cor/raca/etnia')   \n",
       "0                      35-39           Masculino                       Parda  \\\n",
       "1                      30-34           Masculino                       Parda   \n",
       "2                      50-54           Masculino                      Branca   \n",
       "3                      25-29           Masculino                      Branca   \n",
       "4                      45-49            Feminino                      Branca   \n",
       "\n",
       "  ('P1_d ', 'PCD')  ('P1_e ', 'experiencia_profissional_prejudicada')   \n",
       "0              Não  Não acredito que minha experiência profissiona...  \\\n",
       "1              Não  Sim, acredito que a minha a experiência profis...   \n",
       "2              Não                                                NaN   \n",
       "3              Não                                                NaN   \n",
       "4              Não  Não acredito que minha experiência profissiona...   \n",
       "\n",
       "             ('P1_f ', 'aspectos_prejudicados')  ('P1_g ', 'vive_no_brasil')   \n",
       "0                                           NaN                         True  \\\n",
       "1  Aprovação em processos seletivos/entrevistas                         True   \n",
       "2                                           NaN                         True   \n",
       "3                                           NaN                         True   \n",
       "4                                           NaN                         True   \n",
       "\n",
       "  ('P1_i ', 'Estado onde mora')  ...   \n",
       "0         Distrito Federal (DF)  ...  \\\n",
       "1                     Pará (PA)  ...   \n",
       "2         Distrito Federal (DF)  ...   \n",
       "3             Minas Gerais (MG)  ...   \n",
       "4                     Pará (PA)  ...   \n",
       "\n",
       "  ('P8_d_2 ', 'Coletando e limpando os dados que uso para análise e modelagem.')   \n",
       "0                                                NaN                              \\\n",
       "1                                                NaN                               \n",
       "2                                                0.0                               \n",
       "3                                                1.0                               \n",
       "4                                                NaN                               \n",
       "\n",
       "  ('P8_d_3 ', 'Entrando em contato com os times de negócio para definição do problema, identificar a solução e apresentação de resultados.')   \n",
       "0                                                NaN                                                                                          \\\n",
       "1                                                NaN                                                                                           \n",
       "2                                                1.0                                                                                           \n",
       "3                                                0.0                                                                                           \n",
       "4                                                NaN                                                                                           \n",
       "\n",
       "  ('P8_d_4 ', 'Desenvolvendo modelos de Machine Learning com o objetivo de colocar em produção em sistemas (produtos de dados).')   \n",
       "0                                                NaN                                                                               \\\n",
       "1                                                NaN                                                                                \n",
       "2                                                0.0                                                                                \n",
       "3                                                0.0                                                                                \n",
       "4                                                NaN                                                                                \n",
       "\n",
       "  ('P8_d_5 ', 'Colocando modelos em produção, criando os pipelines de dados, APIs de consumo e monitoramento.')   \n",
       "0                                                NaN                                                             \\\n",
       "1                                                NaN                                                              \n",
       "2                                                0.0                                                              \n",
       "3                                                0.0                                                              \n",
       "4                                                NaN                                                              \n",
       "\n",
       "  ('P8_d_6 ', 'Cuidando da manutenção de modelos de Machine Learning já em produção, atuando no monitoramento, ajustes e refatoração quando necessário.')   \n",
       "0                                                NaN                                                                                                       \\\n",
       "1                                                NaN                                                                                                        \n",
       "2                                                0.0                                                                                                        \n",
       "3                                                0.0                                                                                                        \n",
       "4                                                NaN                                                                                                        \n",
       "\n",
       "  ('P8_d_7 ', 'Realizando construções de dashboards em ferramentas de BI como PowerBI, Tableau, Looker, Qlik, etc.')   \n",
       "0                                                NaN                                                                  \\\n",
       "1                                                NaN                                                                   \n",
       "2                                                0.0                                                                   \n",
       "3                                                0.0                                                                   \n",
       "4                                                NaN                                                                   \n",
       "\n",
       "  ('P8_d_8 ', 'Utilizando ferramentas avançadas de estatística como SAS, SPSS, Stata etc, para realizar análises.')   \n",
       "0                                                NaN                                                                 \\\n",
       "1                                                NaN                                                                  \n",
       "2                                                0.0                                                                  \n",
       "3                                                0.0                                                                  \n",
       "4                                                NaN                                                                  \n",
       "\n",
       "  ('P8_d_9 ', 'Criando e dando manutenção em ETLs, DAGs e automações de pipelines de dados.')   \n",
       "0                                                NaN                                           \\\n",
       "1                                                NaN                                            \n",
       "2                                                0.0                                            \n",
       "3                                                0.0                                            \n",
       "4                                                NaN                                            \n",
       "\n",
       "  ('P8_d_10 ', 'Criando e gerenciando soluções de Feature Store e cultura de MLOps.')   \n",
       "0                                                NaN                                   \\\n",
       "1                                                NaN                                    \n",
       "2                                                0.0                                    \n",
       "3                                                0.0                                    \n",
       "4                                                NaN                                    \n",
       "\n",
       "  ('P8_d_11 ', 'Criando e mantendo a infra que meus modelos e soluções rodam (clusters, servidores, API, containers, etc.)')  \n",
       "0                                                NaN                                                                          \n",
       "1                                                NaN                                                                          \n",
       "2                                                0.0                                                                          \n",
       "3                                                0.0                                                                          \n",
       "4                                                NaN                                                                          \n",
       "\n",
       "[5 rows x 353 columns]"
      ]
     },
     "execution_count": 9,
     "metadata": {},
     "output_type": "execute_result"
    }
   ],
   "source": [
    "data.head()"
   ]
  },
  {
   "cell_type": "code",
   "execution_count": null,
   "metadata": {},
   "outputs": [],
   "source": [
    "data.columns"
   ]
  },
  {
   "cell_type": "code",
   "execution_count": 8,
   "metadata": {},
   "outputs": [
    {
     "name": "stdout",
     "output_type": "stream",
     "text": [
      "Pesquisa 1: 15 coluna 1 a 15\n",
      "Pesquisa 2: 36  coluna 16 a 51\n",
      "Pesquisa 3: 38  coluna 52 a 89\n",
      "Pesquisa 4: 100  coluna 90 a 189\n",
      "Pesquisa 5: 4  coluna 190 a 193\n",
      "Pesquisa 6: 59  coluna 194 a 252\n",
      "Pesquisa 7: 50  coluna 253 a 302\n",
      "Pesquisa 8: 50  coluna 303 a 352\n"
     ]
    }
   ],
   "source": [
    "# aplicação de regex para separar as pesquisas em datasets menores, o regex retorna os 5 primeiros caracteres da coluna que contem o título da pesquisa e assim contando a quantidade de colunas de cada uma dessas pesquisas\n",
    "pesquisa = []\n",
    "for i in data.columns:\n",
    "    p = re.match(r\"(.{1,4})\",i).group(1) # esse regex foi feito com auxílio do ChatGPT\n",
    "    pesquisa.append(p)\n",
    "p1 = pesquisa.count(\"('P1\")\n",
    "p2 = pesquisa.count(\"('P2\")\n",
    "p3 = pesquisa.count(\"('P3\")\n",
    "p4 = pesquisa.count(\"('P4\")\n",
    "p5 = pesquisa.count(\"('P5\")\n",
    "p6 = pesquisa.count(\"('P6\")\n",
    "p7 = pesquisa.count(\"('P7\")\n",
    "p8 = pesquisa.count(\"('P8\")\n",
    "print(\"Pesquisa 1:\",p1,\"coluna 1 a\", p1)\n",
    "print(\"Pesquisa 2:\",p2,\" coluna\",p1+1,\"a\",p1+p2)\n",
    "print(\"Pesquisa 3:\",p3,\" coluna\",p1+p2+1,\"a\",p1+p2+p3)\n",
    "print(\"Pesquisa 4:\",p4,\" coluna\",p1+p2+p3+1,\"a\",p1+p2+p3+p4)\n",
    "print(\"Pesquisa 5:\",p5,\" coluna\",p1+p2+p3+p4+1,\"a\",p1+p2+p3+p4+p5)\n",
    "print(\"Pesquisa 6:\",p6,\" coluna\",p1+p2+p3+p4+p5+1,\"a\",p1+p2+p3+p4+p5+p6)\n",
    "print(\"Pesquisa 7:\",p7,\" coluna\",p1+p2+p3+p4+p5+p6+1,\"a\",p1+p2+p3+p4+p5+p6+p7)\n",
    "print(\"Pesquisa 8:\",p8,\" coluna\",p1+p2+p3+p4+p5+p6+p7+1,\"a\",p1+p2+p3+p4+p5+p6+p7+p8)"
   ]
  },
  {
   "cell_type": "code",
   "execution_count": 18,
   "metadata": {},
   "outputs": [],
   "source": [
    "# separando o datset original para facilitar as análises\n",
    "dataP1 = data[data.columns[1:p1]]\n",
    "dataP2 = data[data.columns[p1+1:p1+p2]]\n",
    "dataP3 = data[data.columns[p1+p2+1:p1+p2+p3]]\n",
    "dataP4 = data[data.columns[p1+p2+p3+1:p1+p2+p3+p4]]\n",
    "dataP5 = data[data.columns[p1+p2+p3+p4+1:p1+p2+p3+p4+p5]]\n",
    "dataP6 = data[data.columns[p1+p2+p3+p4+p5+1:p1+p2+p3+p4+p5+p6]]\n",
    "dataP7 = data[data.columns[p1+p2+p3+p4+p5+p6+1:p1+p2+p3+p4+p5+p6+p7]]\n",
    "dataP8 = data[data.columns[p1+p2+p3+p4+p5+p6+p7+1:p1+p2+p3+p4+p5+p6+p7+p8]]"
   ]
  },
  {
   "cell_type": "code",
   "execution_count": null,
   "metadata": {},
   "outputs": [],
   "source": [
    "# O que cada um dos datasets representa\n",
    "# Pesquisa 1 (dataP1) - Dados Demográficos\n",
    "# Pesquisa 2 (dataP2) - Dados Sobre Carreira\n",
    "# Pesquisa 3 (dataP3) - Desafios dos gestores de times de dados\n",
    "# Pesquisa 4 (dataP4) - Conhecimento da área de dados\n",
    "# Pesquisa 5 (dataP5) - Objetivos da área de dados\n",
    "# Pesquisa 6 (dataP6) - Conhecimentos em Engenharia de Dados/DE\n",
    "# Pesquisa 7 (dataP7) - Conhecimento em Análise de dados/DA\n",
    "# Pesquisa 8 (dataP8) - Conhecimento em ciência de dados/DC"
   ]
  },
  {
   "attachments": {},
   "cell_type": "markdown",
   "metadata": {},
   "source": [
    "1 - Diversidade e Inclusão\n",
    "    - mulheres atuando no mercado\n",
    "    - PCD\n",
    "    - Raça/etnia\n",
    "    - faixa salárial \n",
    "    - idade\n",
    "    - Nível de Ensino"
   ]
  },
  {
   "cell_type": "code",
   "execution_count": 90,
   "metadata": {},
   "outputs": [
    {
     "data": {
      "text/plain": [
       "Index(['('P1_a ', 'Idade')', '('P1_a_1 ', 'Faixa idade')',\n",
       "       '('P1_b ', 'Genero')', '('P1_c ', 'Cor/raca/etnia')',\n",
       "       '('P1_d ', 'PCD')', '('P1_e ', 'experiencia_profissional_prejudicada')',\n",
       "       '('P1_f ', 'aspectos_prejudicados')', '('P1_g ', 'vive_no_brasil')',\n",
       "       '('P1_i ', 'Estado onde mora')', '('P1_i_1 ', 'uf onde mora')',\n",
       "       '('P1_i_2 ', 'Regiao onde mora')', '('P1_j ', 'Mudou de Estado?')',\n",
       "       '('P1_k ', 'Regiao de origem')', '('P1_l ', 'Nivel de Ensino')'],\n",
       "      dtype='object')"
      ]
     },
     "execution_count": 90,
     "metadata": {},
     "output_type": "execute_result"
    }
   ],
   "source": [
    "dataP1.columns"
   ]
  },
  {
   "cell_type": "code",
   "execution_count": null,
   "metadata": {},
   "outputs": [],
   "source": [
    "# verificando os tipos de dados\n",
    "dataP1.dtypes"
   ]
  },
  {
   "cell_type": "code",
   "execution_count": null,
   "metadata": {},
   "outputs": [],
   "source": [
    "# Mudando Idade de float para inteiro\n",
    "dataP1.dtypes[\"('P1_a ', 'Idade')\"]"
   ]
  },
  {
   "cell_type": "code",
   "execution_count": null,
   "metadata": {},
   "outputs": [],
   "source": [
    "# Função para label encoding par ajustar Genero\n",
    "def encoding_func1(x):\n",
    "    if x == 'Masculino':\n",
    "        return 0\n",
    "    return 1\n",
    "dataP1[\"('P1_b ', 'Genero')\"] = dataP1[\"('P1_b ', 'Genero')\"].map(encoding_func1)"
   ]
  },
  {
   "cell_type": "code",
   "execution_count": null,
   "metadata": {},
   "outputs": [],
   "source": [
    "# Função para label encoding para ajustar PCD\n",
    "def encoding_func2(x):\n",
    "    if x == 'Não':\n",
    "        return 0\n",
    "    return 1\n",
    "dataP1[\"('P1_d ', 'PCD')\"] = dataP1[\"('P1_d ', 'PCD')\"].map(encoding_func2)"
   ]
  },
  {
   "cell_type": "code",
   "execution_count": null,
   "metadata": {},
   "outputs": [],
   "source": [
    "# Função para label encoding para ajustar se vive no Brasil e se mudou de estado\n",
    "def encoding_func3(x):\n",
    "    if x == 'True':\n",
    "        return 0\n",
    "    return 1\n",
    "dataP1[\"('P1_g ', 'vive_no_brasil')\"] = dataP1[\"('P1_g ', 'vive_no_brasil')\"].map(encoding_func3)\n",
    "dataP1[\"('P1_j ', 'Mudou de Estado?')\"] = dataP1[\"('P1_j ', 'Mudou de Estado?')\"].map(encoding_func3)"
   ]
  },
  {
   "cell_type": "code",
   "execution_count": null,
   "metadata": {},
   "outputs": [],
   "source": [
    "dataP1[\"('P1_e ', 'experiencia_profissional_prejudicada')\"].value_counts()"
   ]
  },
  {
   "cell_type": "code",
   "execution_count": null,
   "metadata": {},
   "outputs": [],
   "source": [
    "dataP1.hist(figsize = (10,10), bins = 10) \n",
    "plt.show()"
   ]
  },
  {
   "attachments": {},
   "cell_type": "markdown",
   "metadata": {},
   "source": [
    "1.1 Distribuição de Gênero por Faixa Etária"
   ]
  },
  {
   "cell_type": "code",
   "execution_count": null,
   "metadata": {},
   "outputs": [],
   "source": [
    "list(dataP1[\"('P1_b ', 'Genero')\"].drop_duplicates())"
   ]
  },
  {
   "cell_type": "code",
   "execution_count": 97,
   "metadata": {},
   "outputs": [
    {
     "data": {
      "text/plain": [
       "('P1_b ', 'Genero')   ('P1_d ', 'PCD')    \n",
       "Masculino             Não                     3148\n",
       "Feminino              Não                     1031\n",
       "Masculino             Sim                       37\n",
       "Feminino              Sim                       17\n",
       "Prefiro não informar  Não                       10\n",
       "Masculino             Prefiro não informar       9\n",
       "Feminino              Prefiro não informar       8\n",
       "Prefiro não informar  Prefiro não informar       2\n",
       "Name: count, dtype: int64"
      ]
     },
     "execution_count": 97,
     "metadata": {},
     "output_type": "execute_result"
    }
   ],
   "source": [
    "dataP1[[\"('P1_b ', 'Genero')\",\"('P1_d ', 'PCD')\"]].value_counts()"
   ]
  },
  {
   "cell_type": "code",
   "execution_count": 89,
   "metadata": {},
   "outputs": [
    {
     "data": {
      "text/plain": [
       "[Text(0, 0, '4,000'),\n",
       " Text(0, 0, '2,000'),\n",
       " Text(0, 0, '7,000'),\n",
       " Text(0, 0, '1,000')]"
      ]
     },
     "execution_count": 89,
     "metadata": {},
     "output_type": "execute_result"
    },
    {
     "data": {
      "image/png": "[encoded data removed]",
      "text/plain": [
       "<Figure size 1000x400 with 1 Axes>"
      ]
     },
     "metadata": {},
     "output_type": "display_data"
    }
   ],
   "source": [
    "ge = ['Masculino', 'Feminino', \"Não Respondeu\", 'Prefiro não informar']\n",
    "dpcd = [4000, 2000, 7000, 1000]\n",
    "\n",
    "fig, ax = plt.subplots()\n",
    "bar_container = ax.bar(ge, dcpd)\n",
    "ax.set(title='Quantidade de PCDs por Gênero', ylim=(0, 8000))\n",
    "ax.bar_label(bar_container, fmt='{:,.0f}')"
   ]
  },
  {
   "attachments": {},
   "cell_type": "markdown",
   "metadata": {},
   "source": [
    "1.2 - Faixa Salarial Mulheres/PCD/Etnia"
   ]
  },
  {
   "attachments": {},
   "cell_type": "markdown",
   "metadata": {},
   "source": [
    "1.1.1 - As mulheres PCDs e Etnia acreditam que tem experiência Profissional afetada?"
   ]
  },
  {
   "attachments": {},
   "cell_type": "markdown",
   "metadata": {},
   "source": [
    "1.3 - Nível de Ensino Mulheres/PCD/Etnia"
   ]
  }
 ],
 "metadata": {
  "kernelspec": {
   "display_name": "base",
   "language": "python",
   "name": "python3"
  },
  "language_info": {
   "codemirror_mode": {
    "name": "ipython",
    "version": 3
   },
   "file_extension": ".py",
   "mimetype": "text/x-python",
   "name": "python",
   "nbconvert_exporter": "python",
   "pygments_lexer": "ipython3",
   "version": "3.9.12"
  },
  "orig_nbformat": 4
 },
 "nbformat": 4,
 "nbformat_minor": 2
}
