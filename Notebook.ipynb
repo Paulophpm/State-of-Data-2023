{
 "cells": [
  {
   "cell_type": "code",
   "execution_count": 1,
   "metadata": {},
   "outputs": [],
   "source": [
    "# importação dos pacotes\n",
    "import pandas as pd\n",
    "import numpy as np\n",
    "import matplotlib.pyplot as mlp\n",
    "import seaborn as sns\n",
    "import re"
   ]
  },
  {
   "cell_type": "code",
   "execution_count": 2,
   "metadata": {},
   "outputs": [],
   "source": [
    "# carregando dataset\n",
    "data = pd.read_csv(\"State_of_data_2022.csv\")"
   ]
  },
  {
   "cell_type": "code",
   "execution_count": null,
   "metadata": {},
   "outputs": [],
   "source": [
    "data.columns"
   ]
  },
  {
   "cell_type": "code",
   "execution_count": null,
   "metadata": {},
   "outputs": [],
   "source": [
    "# aplicação de regex para separar as pesquisas em datasets menores, o regex retorna os 5 primeiros caracteres da coluna \n",
    "c = 0\n",
    "for i in data.columns:\n",
    "    inicial = re.match(r\"(.{1,5})\",i).group(1)\n",
    "    print([c,inicial])\n",
    "    c = c + 1"
   ]
  },
  {
   "cell_type": "code",
   "execution_count": 75,
   "metadata": {},
   "outputs": [],
   "source": [
    "# aplicação de regex para separar as pesquisas em datasets menores, o regex retorna os 5 primeiros caracteres da coluna \n",
    "c = 0\n",
    "for i in data.columns:\n",
    "    inicial = re.match(r\"(.{1,5})\",i).group(1)\n",
    "    Pinicial = {}\n",
    "    Pinicial = Pinicial.update({inicial:c})\n",
    "    #print([c,inicial])\n",
    "    c = c + 1\n",
    "Pinicial"
   ]
  }
 ],
 "metadata": {
  "kernelspec": {
   "display_name": "base",
   "language": "python",
   "name": "python3"
  },
  "language_info": {
   "codemirror_mode": {
    "name": "ipython",
    "version": 3
   },
   "file_extension": ".py",
   "mimetype": "text/x-python",
   "name": "python",
   "nbconvert_exporter": "python",
   "pygments_lexer": "ipython3",
   "version": "3.9.12"
  },
  "orig_nbformat": 4
 },
 "nbformat": 4,
 "nbformat_minor": 2
}
